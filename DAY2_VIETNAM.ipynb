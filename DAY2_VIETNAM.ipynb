{
  "nbformat": 4,
  "nbformat_minor": 0,
  "metadata": {
    "colab": {
      "provenance": [],
      "collapsed_sections": []
    },
    "kernelspec": {
      "name": "python3",
      "display_name": "Python 3"
    },
    "language_info": {
      "name": "python"
    }
  },
  "cells": [
    {
      "cell_type": "code",
      "execution_count": 3,
      "metadata": {
        "colab": {
          "base_uri": "https://localhost:8080/"
        },
        "id": "FwXD8-iuCKay",
        "outputId": "f3c682d7-fad4-4714-d5c6-853b1e93e608"
      },
      "outputs": [
        {
          "output_type": "stream",
          "name": "stdout",
          "text": [
            "Enter n: 10\n",
            "The sum is:  55\n"
          ]
        }
      ],
      "source": [
        "#to find sum all Natural numbers from 1 to N where you have to take N as input from user\n",
        "n = int(input('Enter n: '))\n",
        "sum = 0\n",
        "for i in range(n):\n",
        "    sum=sum+ (i+1)\n",
        "print('The sum is: ',sum)"
      ]
    },
    {
      "cell_type": "code",
      "source": [
        "# to find simple interest on a principal amount A at interest rate of R for time period T. Take A, R and T as input from the user\n",
        "A = float(input('Enter Principal Amount: '))\n",
        "R = float(input('Enter Rate in %: '))\n",
        "T = int(input('Enter time in years: '))\n",
        "simpleinterest = (A*R*T/100)\n",
        "print('Simple Interest', simpleinterest)"
      ],
      "metadata": {
        "colab": {
          "base_uri": "https://localhost:8080/"
        },
        "id": "Sb9iO1RJCXd0",
        "outputId": "83f3d3cc-3363-4b16-cac9-1096fe894ac5"
      },
      "execution_count": 2,
      "outputs": [
        {
          "output_type": "stream",
          "name": "stdout",
          "text": [
            "Enter Principal Amount: 100\n",
            "Enter Rate in %: 5\n",
            "Enter time in years: 2\n",
            "Simple Interest 10.0\n"
          ]
        }
      ]
    },
    {
      "cell_type": "code",
      "source": [],
      "metadata": {
        "id": "twLf6fQHCwNF"
      },
      "execution_count": null,
      "outputs": []
    }
  ]
}